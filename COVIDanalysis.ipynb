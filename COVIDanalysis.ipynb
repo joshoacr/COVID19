{
 "cells": [
  {
   "cell_type": "code",
   "execution_count": 35,
   "id": "69d03d49",
   "metadata": {},
   "outputs": [],
   "source": [
    "import pandas as pd\n",
    "import numpy as np\n",
    "import matplotlib as mpl\n",
    "import matplotlib.pyplot as plt\n",
    "import seaborn as sns\n",
    "import statsmodels.api as sm\n",
    "from statsmodels.stats.proportion import proportion_confint\n",
    "\n",
    "sns.set_palette(\"Set3\")\n"
   ]
  },
  {
   "cell_type": "code",
   "execution_count": 2,
   "id": "383ec53e",
   "metadata": {},
   "outputs": [
    {
     "data": {
      "text/html": [
       "<div>\n",
       "<style scoped>\n",
       "    .dataframe tbody tr th:only-of-type {\n",
       "        vertical-align: middle;\n",
       "    }\n",
       "\n",
       "    .dataframe tbody tr th {\n",
       "        vertical-align: top;\n",
       "    }\n",
       "\n",
       "    .dataframe thead th {\n",
       "        text-align: right;\n",
       "    }\n",
       "</style>\n",
       "<table border=\"1\" class=\"dataframe\">\n",
       "  <thead>\n",
       "    <tr style=\"text-align: right;\">\n",
       "      <th></th>\n",
       "      <th>USMER</th>\n",
       "      <th>SEX</th>\n",
       "      <th>PATIENT_TYPE</th>\n",
       "      <th>DATE_DIED</th>\n",
       "      <th>INTUBED</th>\n",
       "      <th>PNEUMONIA</th>\n",
       "      <th>AGE</th>\n",
       "      <th>PREGNANT</th>\n",
       "      <th>DIABETES</th>\n",
       "      <th>COPD</th>\n",
       "      <th>ASTHMA</th>\n",
       "      <th>INMSUPR</th>\n",
       "      <th>HIPERTENSION</th>\n",
       "      <th>OTHER_DISEASE</th>\n",
       "      <th>CARDIOVASCULAR</th>\n",
       "      <th>OBESITY</th>\n",
       "      <th>RENAL_CHRONIC</th>\n",
       "      <th>TOBACCO</th>\n",
       "      <th>CLASIFFICATION_FINAL</th>\n",
       "      <th>ICU</th>\n",
       "    </tr>\n",
       "  </thead>\n",
       "  <tbody>\n",
       "    <tr>\n",
       "      <th>0</th>\n",
       "      <td>2</td>\n",
       "      <td>1</td>\n",
       "      <td>1</td>\n",
       "      <td>03/05/2020</td>\n",
       "      <td>97</td>\n",
       "      <td>1</td>\n",
       "      <td>65</td>\n",
       "      <td>2</td>\n",
       "      <td>2</td>\n",
       "      <td>2</td>\n",
       "      <td>2</td>\n",
       "      <td>2</td>\n",
       "      <td>1</td>\n",
       "      <td>2</td>\n",
       "      <td>2</td>\n",
       "      <td>2</td>\n",
       "      <td>2</td>\n",
       "      <td>2</td>\n",
       "      <td>3</td>\n",
       "      <td>97</td>\n",
       "    </tr>\n",
       "    <tr>\n",
       "      <th>1</th>\n",
       "      <td>2</td>\n",
       "      <td>2</td>\n",
       "      <td>1</td>\n",
       "      <td>03/06/2020</td>\n",
       "      <td>97</td>\n",
       "      <td>1</td>\n",
       "      <td>72</td>\n",
       "      <td>97</td>\n",
       "      <td>2</td>\n",
       "      <td>2</td>\n",
       "      <td>2</td>\n",
       "      <td>2</td>\n",
       "      <td>1</td>\n",
       "      <td>2</td>\n",
       "      <td>2</td>\n",
       "      <td>1</td>\n",
       "      <td>1</td>\n",
       "      <td>2</td>\n",
       "      <td>5</td>\n",
       "      <td>97</td>\n",
       "    </tr>\n",
       "    <tr>\n",
       "      <th>2</th>\n",
       "      <td>2</td>\n",
       "      <td>2</td>\n",
       "      <td>2</td>\n",
       "      <td>09/06/2020</td>\n",
       "      <td>1</td>\n",
       "      <td>2</td>\n",
       "      <td>55</td>\n",
       "      <td>97</td>\n",
       "      <td>1</td>\n",
       "      <td>2</td>\n",
       "      <td>2</td>\n",
       "      <td>2</td>\n",
       "      <td>2</td>\n",
       "      <td>2</td>\n",
       "      <td>2</td>\n",
       "      <td>2</td>\n",
       "      <td>2</td>\n",
       "      <td>2</td>\n",
       "      <td>3</td>\n",
       "      <td>2</td>\n",
       "    </tr>\n",
       "    <tr>\n",
       "      <th>3</th>\n",
       "      <td>2</td>\n",
       "      <td>1</td>\n",
       "      <td>1</td>\n",
       "      <td>12/06/2020</td>\n",
       "      <td>97</td>\n",
       "      <td>2</td>\n",
       "      <td>53</td>\n",
       "      <td>2</td>\n",
       "      <td>2</td>\n",
       "      <td>2</td>\n",
       "      <td>2</td>\n",
       "      <td>2</td>\n",
       "      <td>2</td>\n",
       "      <td>2</td>\n",
       "      <td>2</td>\n",
       "      <td>2</td>\n",
       "      <td>2</td>\n",
       "      <td>2</td>\n",
       "      <td>7</td>\n",
       "      <td>97</td>\n",
       "    </tr>\n",
       "    <tr>\n",
       "      <th>4</th>\n",
       "      <td>2</td>\n",
       "      <td>2</td>\n",
       "      <td>1</td>\n",
       "      <td>21/06/2020</td>\n",
       "      <td>97</td>\n",
       "      <td>2</td>\n",
       "      <td>68</td>\n",
       "      <td>97</td>\n",
       "      <td>1</td>\n",
       "      <td>2</td>\n",
       "      <td>2</td>\n",
       "      <td>2</td>\n",
       "      <td>1</td>\n",
       "      <td>2</td>\n",
       "      <td>2</td>\n",
       "      <td>2</td>\n",
       "      <td>2</td>\n",
       "      <td>2</td>\n",
       "      <td>3</td>\n",
       "      <td>97</td>\n",
       "    </tr>\n",
       "  </tbody>\n",
       "</table>\n",
       "</div>"
      ],
      "text/plain": [
       "   USMER  SEX  PATIENT_TYPE   DATE_DIED  INTUBED  PNEUMONIA  AGE  PREGNANT  \\\n",
       "0      2    1             1  03/05/2020       97          1   65         2   \n",
       "1      2    2             1  03/06/2020       97          1   72        97   \n",
       "2      2    2             2  09/06/2020        1          2   55        97   \n",
       "3      2    1             1  12/06/2020       97          2   53         2   \n",
       "4      2    2             1  21/06/2020       97          2   68        97   \n",
       "\n",
       "   DIABETES  COPD  ASTHMA  INMSUPR  HIPERTENSION  OTHER_DISEASE  \\\n",
       "0         2     2       2        2             1              2   \n",
       "1         2     2       2        2             1              2   \n",
       "2         1     2       2        2             2              2   \n",
       "3         2     2       2        2             2              2   \n",
       "4         1     2       2        2             1              2   \n",
       "\n",
       "   CARDIOVASCULAR  OBESITY  RENAL_CHRONIC  TOBACCO  CLASIFFICATION_FINAL  ICU  \n",
       "0               2        2              2        2                     3   97  \n",
       "1               2        1              1        2                     5   97  \n",
       "2               2        2              2        2                     3    2  \n",
       "3               2        2              2        2                     7   97  \n",
       "4               2        2              2        2                     3   97  "
      ]
     },
     "execution_count": 2,
     "metadata": {},
     "output_type": "execute_result"
    }
   ],
   "source": [
    "df = pd.read_csv('dataset/covid19.csv',sep=',',\n",
    "                 usecols=['PATIENT_TYPE','SEX','AGE','PNEUMONIA','COPD','ASTHMA','INMSUPR',\n",
    "                          'HIPERTENSION','OTHER_DISEASE','CARDIOVASCULAR','DIABETES','OBESITY','RENAL_CHRONIC',\n",
    "                          'TOBACCO','CLASIFFICATION_FINAL','ICU','PREGNANT',\"USMER\",\"DATE_DIED\",\"INTUBED\"])\n",
    "df.head(5)"
   ]
  },
  {
   "cell_type": "code",
   "execution_count": 3,
   "id": "14028987",
   "metadata": {},
   "outputs": [
    {
     "name": "stdout",
     "output_type": "stream",
     "text": [
      "         USMER  SEX  PATIENT_TYPE   DATE_DIED  INTUBED  PNEUMONIA  AGE  \\\n",
      "2            2    2             2  09/06/2020        1          2   55   \n",
      "5            2    1             2  9999-99-99        2          1   40   \n",
      "8            2    1             2  9999-99-99        2          2   37   \n",
      "9            2    1             2  9999-99-99        2          2   25   \n",
      "11           2    2             2  9999-99-99        2          2   24   \n",
      "...        ...  ...           ...         ...      ...        ...  ...   \n",
      "1047913      1    2             2  9999-99-99        2          2   54   \n",
      "1047919      1    2             2  9999-99-99        2          2   62   \n",
      "1047928      1    1             2  9999-99-99        2          2   47   \n",
      "1047929      1    2             2  9999-99-99        2          2   72   \n",
      "1047933      1    1             2  9999-99-99        2          2   77   \n",
      "\n",
      "         PREGNANT  DIABETES  COPD  ASTHMA  INMSUPR  HIPERTENSION  \\\n",
      "2              97         1     2       2        2             2   \n",
      "5               2         2     2       2        2             2   \n",
      "8               2         1     2       2        2             1   \n",
      "9               2         2     2       2        2             2   \n",
      "11             97         2     2       2        2             2   \n",
      "...           ...       ...   ...     ...      ...           ...   \n",
      "1047913        97         1     2       2        2             2   \n",
      "1047919        97         2     2       2        2             2   \n",
      "1047928         2         1     2       2        2             2   \n",
      "1047929        97         1     2       2        2             2   \n",
      "1047933         2         1     2       2        1             1   \n",
      "\n",
      "         OTHER_DISEASE  CARDIOVASCULAR  OBESITY  RENAL_CHRONIC  TOBACCO  \\\n",
      "2                    2               2        2              2        2   \n",
      "5                    2               2        2              2        2   \n",
      "8                    2               2        1              2        2   \n",
      "9                    2               2        2              2        2   \n",
      "11                   2               2        2              2        2   \n",
      "...                ...             ...      ...            ...      ...   \n",
      "1047913              2               2        2              2        2   \n",
      "1047919              2               2        2              2        2   \n",
      "1047928              2               2        2              2        2   \n",
      "1047929              2               1        1              2        2   \n",
      "1047933              2               2        2              2        2   \n",
      "\n",
      "         CLASIFFICATION_FINAL  ICU  \n",
      "2                           3    2  \n",
      "5                           3    2  \n",
      "8                           3    2  \n",
      "9                           3    2  \n",
      "11                          3    2  \n",
      "...                       ...  ...  \n",
      "1047913                     3    2  \n",
      "1047919                     3    2  \n",
      "1047928                     3    2  \n",
      "1047929                     3    2  \n",
      "1047933                     3    2  \n",
      "\n",
      "[108273 rows x 20 columns]\n"
     ]
    }
   ],
   "source": [
    "df = df.loc[(df.CLASIFFICATION_FINAL < 4)] #Values 1-3 mean that the patient was diagnosed with covid in different degrees\n",
    "df = df.loc[(df.USMER == 1) | (df.USMER == 2)]\n",
    "df = df.loc[(df.SEX == 1) | (df.SEX == 2)]\n",
    "df = df.loc[(df.PATIENT_TYPE == 1) | (df.PATIENT_TYPE == 2)]\n",
    "df = df.loc[(df.PNEUMONIA == 1) | (df.PNEUMONIA == 2)]\n",
    "df = df.loc[(df.DIABETES == 1) | (df.DIABETES == 2)]\n",
    "df = df.loc[(df.COPD == 1) | (df.COPD == 2)]\n",
    "df = df.loc[(df.ASTHMA == 1) | (df.ASTHMA == 2)]\n",
    "df = df.loc[(df.INMSUPR == 1) | (df.INMSUPR == 2)]\n",
    "df = df.loc[(df.HIPERTENSION == 1) | (df.HIPERTENSION == 2)]\n",
    "df = df.loc[(df.OTHER_DISEASE == 1) | (df.OTHER_DISEASE == 2)]\n",
    "df = df.loc[(df.CARDIOVASCULAR == 1) | (df.CARDIOVASCULAR == 2)]\n",
    "df = df.loc[(df.OBESITY == 1) | (df.OBESITY == 2)]\n",
    "df = df.loc[(df.RENAL_CHRONIC == 1) | (df.RENAL_CHRONIC == 2)]\n",
    "df = df.loc[(df.TOBACCO == 1) | (df.TOBACCO == 2)]\n",
    "df = df.loc[(df.ICU == 1) | (df.ICU == 2)]\n",
    "\n",
    "print(df)"
   ]
  },
  {
   "cell_type": "code",
   "execution_count": 4,
   "id": "1d95b6c2",
   "metadata": {},
   "outputs": [
    {
     "name": "stdout",
     "output_type": "stream",
     "text": [
      "         USMER  SEX  PATIENT_TYPE  DATE_DIED  INTUBED  PNEUMONIA  AGE  \\\n",
      "2            0    0             1          1        1          0   55   \n",
      "5            0    1             1          0        0          1   40   \n",
      "8            0    1             1          0        0          0   37   \n",
      "9            0    1             1          0        0          0   25   \n",
      "11           0    0             1          0        0          0   24   \n",
      "...        ...  ...           ...        ...      ...        ...  ...   \n",
      "1047913      1    0             1          0        0          0   54   \n",
      "1047919      1    0             1          0        0          0   62   \n",
      "1047928      1    1             1          0        0          0   47   \n",
      "1047929      1    0             1          0        0          0   72   \n",
      "1047933      1    1             1          0        0          0   77   \n",
      "\n",
      "         PREGNANT  DIABETES  COPD  ASTHMA  INMSUPR  HIPERTENSION  \\\n",
      "2               0         1     0       0        0             0   \n",
      "5               0         0     0       0        0             0   \n",
      "8               0         1     0       0        0             1   \n",
      "9               0         0     0       0        0             0   \n",
      "11              0         0     0       0        0             0   \n",
      "...           ...       ...   ...     ...      ...           ...   \n",
      "1047913         0         1     0       0        0             0   \n",
      "1047919         0         0     0       0        0             0   \n",
      "1047928         0         1     0       0        0             0   \n",
      "1047929         0         1     0       0        0             0   \n",
      "1047933         0         1     0       0        1             1   \n",
      "\n",
      "         OTHER_DISEASE  CARDIOVASCULAR  OBESITY  RENAL_CHRONIC  TOBACCO  \\\n",
      "2                    0               0        0              0        0   \n",
      "5                    0               0        0              0        0   \n",
      "8                    0               0        1              0        0   \n",
      "9                    0               0        0              0        0   \n",
      "11                   0               0        0              0        0   \n",
      "...                ...             ...      ...            ...      ...   \n",
      "1047913              0               0        0              0        0   \n",
      "1047919              0               0        0              0        0   \n",
      "1047928              0               0        0              0        0   \n",
      "1047929              0               1        1              0        0   \n",
      "1047933              0               0        0              0        0   \n",
      "\n",
      "         CLASIFFICATION_FINAL  ICU  \n",
      "2                           3    0  \n",
      "5                           3    0  \n",
      "8                           3    0  \n",
      "9                           3    0  \n",
      "11                          3    0  \n",
      "...                       ...  ...  \n",
      "1047913                     3    0  \n",
      "1047919                     3    0  \n",
      "1047928                     3    0  \n",
      "1047929                     3    0  \n",
      "1047933                     3    0  \n",
      "\n",
      "[108273 rows x 20 columns]\n"
     ]
    }
   ],
   "source": [
    "df.SEX = df.SEX.apply(lambda x: x if x == 1 else 0)  \n",
    "df.USMER = df.USMER.apply(lambda x: x if x == 1 else 0)                     # no = 0, yes = 1\n",
    "df.PATIENT_TYPE = df.PATIENT_TYPE.apply(lambda x: 0 if x == 1 else 1)     \n",
    "df.PNEUMONIA = df.PNEUMONIA.apply(lambda x: x if x == 1 else 0)           \n",
    "df.DIABETES = df.DIABETES.apply(lambda x: x if x == 1 else 0)             \n",
    "df.COPD = df.COPD.apply(lambda x: x if x == 1 else 0)                     \n",
    "df.ASTHMA = df.ASTHMA.apply(lambda x: x if x == 1 else 0)                 \n",
    "df.INMSUPR = df.INMSUPR.apply(lambda x: x if x == 1 else 0)               \n",
    "df.HIPERTENSION = df.HIPERTENSION.apply(lambda x: x if x == 1 else 0)     \n",
    "df.OTHER_DISEASE = df.OTHER_DISEASE.apply(lambda x: x if x == 1 else -0)  \n",
    "df.CARDIOVASCULAR = df.CARDIOVASCULAR.apply(lambda x: x if x == 1 else 0) \n",
    "df.OBESITY = df.OBESITY.apply(lambda x: x if x == 1 else 0)               \n",
    "df.RENAL_CHRONIC = df.RENAL_CHRONIC.apply(lambda x: x if x == 1 else 0)   \n",
    "df.TOBACCO = df.TOBACCO.apply(lambda x: x if x == 1 else 0)               \n",
    "df.DATE_DIED = df.DATE_DIED.apply(lambda x: 0 if x == \"9999-99-99\" else 1)\n",
    "df.PREGNANT = df.PREGNANT.apply(lambda x: x if x == 1 else 0)           \n",
    "df.INTUBED = df.INTUBED.apply(lambda x: x if x == 1 else 0)                   \n",
    "df.ICU = df.ICU.apply(lambda x: x if x == 1 else 0)\n",
    "\n",
    "print(df)"
   ]
  },
  {
   "cell_type": "code",
   "execution_count": 5,
   "id": "6c482ecf",
   "metadata": {},
   "outputs": [
    {
     "name": "stdout",
     "output_type": "stream",
     "text": [
      "<class 'pandas.core.frame.DataFrame'>\n",
      "Int64Index: 108273 entries, 2 to 1047933\n",
      "Data columns (total 20 columns):\n",
      " #   Column                Non-Null Count   Dtype\n",
      "---  ------                --------------   -----\n",
      " 0   USMER                 108273 non-null  int64\n",
      " 1   SEX                   108273 non-null  int64\n",
      " 2   PATIENT_TYPE          108273 non-null  int64\n",
      " 3   DATE_DIED             108273 non-null  int64\n",
      " 4   INTUBED               108273 non-null  int64\n",
      " 5   PNEUMONIA             108273 non-null  int64\n",
      " 6   AGE                   108273 non-null  int64\n",
      " 7   PREGNANT              108273 non-null  int64\n",
      " 8   DIABETES              108273 non-null  int64\n",
      " 9   COPD                  108273 non-null  int64\n",
      " 10  ASTHMA                108273 non-null  int64\n",
      " 11  INMSUPR               108273 non-null  int64\n",
      " 12  HIPERTENSION          108273 non-null  int64\n",
      " 13  OTHER_DISEASE         108273 non-null  int64\n",
      " 14  CARDIOVASCULAR        108273 non-null  int64\n",
      " 15  OBESITY               108273 non-null  int64\n",
      " 16  RENAL_CHRONIC         108273 non-null  int64\n",
      " 17  TOBACCO               108273 non-null  int64\n",
      " 18  CLASIFFICATION_FINAL  108273 non-null  int64\n",
      " 19  ICU                   108273 non-null  int64\n",
      "dtypes: int64(20)\n",
      "memory usage: 17.3 MB\n"
     ]
    }
   ],
   "source": [
    "df.info()"
   ]
  },
  {
   "cell_type": "code",
   "execution_count": 6,
   "id": "f811fc4d",
   "metadata": {},
   "outputs": [
    {
     "data": {
      "text/html": [
       "<div>\n",
       "<style scoped>\n",
       "    .dataframe tbody tr th:only-of-type {\n",
       "        vertical-align: middle;\n",
       "    }\n",
       "\n",
       "    .dataframe tbody tr th {\n",
       "        vertical-align: top;\n",
       "    }\n",
       "\n",
       "    .dataframe thead th {\n",
       "        text-align: right;\n",
       "    }\n",
       "</style>\n",
       "<table border=\"1\" class=\"dataframe\">\n",
       "  <thead>\n",
       "    <tr style=\"text-align: right;\">\n",
       "      <th></th>\n",
       "      <th>USMER</th>\n",
       "      <th>SEX</th>\n",
       "      <th>PATIENT_TYPE</th>\n",
       "      <th>DATE_DIED</th>\n",
       "      <th>INTUBED</th>\n",
       "      <th>PNEUMONIA</th>\n",
       "      <th>AGE</th>\n",
       "      <th>PREGNANT</th>\n",
       "      <th>DIABETES</th>\n",
       "      <th>COPD</th>\n",
       "      <th>ASTHMA</th>\n",
       "      <th>INMSUPR</th>\n",
       "      <th>HIPERTENSION</th>\n",
       "      <th>OTHER_DISEASE</th>\n",
       "      <th>CARDIOVASCULAR</th>\n",
       "      <th>OBESITY</th>\n",
       "      <th>RENAL_CHRONIC</th>\n",
       "      <th>TOBACCO</th>\n",
       "      <th>CLASIFFICATION_FINAL</th>\n",
       "      <th>ICU</th>\n",
       "    </tr>\n",
       "  </thead>\n",
       "  <tbody>\n",
       "    <tr>\n",
       "      <th>2</th>\n",
       "      <td>0</td>\n",
       "      <td>0</td>\n",
       "      <td>1</td>\n",
       "      <td>1</td>\n",
       "      <td>1</td>\n",
       "      <td>0</td>\n",
       "      <td>55.0</td>\n",
       "      <td>0</td>\n",
       "      <td>1</td>\n",
       "      <td>0</td>\n",
       "      <td>0</td>\n",
       "      <td>0</td>\n",
       "      <td>0</td>\n",
       "      <td>0</td>\n",
       "      <td>0</td>\n",
       "      <td>0</td>\n",
       "      <td>0</td>\n",
       "      <td>0</td>\n",
       "      <td>3</td>\n",
       "      <td>0</td>\n",
       "    </tr>\n",
       "    <tr>\n",
       "      <th>5</th>\n",
       "      <td>0</td>\n",
       "      <td>1</td>\n",
       "      <td>1</td>\n",
       "      <td>0</td>\n",
       "      <td>0</td>\n",
       "      <td>1</td>\n",
       "      <td>40.0</td>\n",
       "      <td>0</td>\n",
       "      <td>0</td>\n",
       "      <td>0</td>\n",
       "      <td>0</td>\n",
       "      <td>0</td>\n",
       "      <td>0</td>\n",
       "      <td>0</td>\n",
       "      <td>0</td>\n",
       "      <td>0</td>\n",
       "      <td>0</td>\n",
       "      <td>0</td>\n",
       "      <td>3</td>\n",
       "      <td>0</td>\n",
       "    </tr>\n",
       "    <tr>\n",
       "      <th>8</th>\n",
       "      <td>0</td>\n",
       "      <td>1</td>\n",
       "      <td>1</td>\n",
       "      <td>0</td>\n",
       "      <td>0</td>\n",
       "      <td>0</td>\n",
       "      <td>37.0</td>\n",
       "      <td>0</td>\n",
       "      <td>1</td>\n",
       "      <td>0</td>\n",
       "      <td>0</td>\n",
       "      <td>0</td>\n",
       "      <td>1</td>\n",
       "      <td>0</td>\n",
       "      <td>0</td>\n",
       "      <td>1</td>\n",
       "      <td>0</td>\n",
       "      <td>0</td>\n",
       "      <td>3</td>\n",
       "      <td>0</td>\n",
       "    </tr>\n",
       "    <tr>\n",
       "      <th>9</th>\n",
       "      <td>0</td>\n",
       "      <td>1</td>\n",
       "      <td>1</td>\n",
       "      <td>0</td>\n",
       "      <td>0</td>\n",
       "      <td>0</td>\n",
       "      <td>25.0</td>\n",
       "      <td>0</td>\n",
       "      <td>0</td>\n",
       "      <td>0</td>\n",
       "      <td>0</td>\n",
       "      <td>0</td>\n",
       "      <td>0</td>\n",
       "      <td>0</td>\n",
       "      <td>0</td>\n",
       "      <td>0</td>\n",
       "      <td>0</td>\n",
       "      <td>0</td>\n",
       "      <td>3</td>\n",
       "      <td>0</td>\n",
       "    </tr>\n",
       "    <tr>\n",
       "      <th>11</th>\n",
       "      <td>0</td>\n",
       "      <td>0</td>\n",
       "      <td>1</td>\n",
       "      <td>0</td>\n",
       "      <td>0</td>\n",
       "      <td>0</td>\n",
       "      <td>24.0</td>\n",
       "      <td>0</td>\n",
       "      <td>0</td>\n",
       "      <td>0</td>\n",
       "      <td>0</td>\n",
       "      <td>0</td>\n",
       "      <td>0</td>\n",
       "      <td>0</td>\n",
       "      <td>0</td>\n",
       "      <td>0</td>\n",
       "      <td>0</td>\n",
       "      <td>0</td>\n",
       "      <td>3</td>\n",
       "      <td>0</td>\n",
       "    </tr>\n",
       "  </tbody>\n",
       "</table>\n",
       "</div>"
      ],
      "text/plain": [
       "    USMER  SEX  PATIENT_TYPE  DATE_DIED  INTUBED  PNEUMONIA   AGE  PREGNANT  \\\n",
       "2       0    0             1          1        1          0  55.0         0   \n",
       "5       0    1             1          0        0          1  40.0         0   \n",
       "8       0    1             1          0        0          0  37.0         0   \n",
       "9       0    1             1          0        0          0  25.0         0   \n",
       "11      0    0             1          0        0          0  24.0         0   \n",
       "\n",
       "    DIABETES  COPD  ASTHMA  INMSUPR  HIPERTENSION  OTHER_DISEASE  \\\n",
       "2          1     0       0        0             0              0   \n",
       "5          0     0       0        0             0              0   \n",
       "8          1     0       0        0             1              0   \n",
       "9          0     0       0        0             0              0   \n",
       "11         0     0       0        0             0              0   \n",
       "\n",
       "    CARDIOVASCULAR  OBESITY  RENAL_CHRONIC  TOBACCO  CLASIFFICATION_FINAL  ICU  \n",
       "2                0        0              0        0                     3    0  \n",
       "5                0        0              0        0                     3    0  \n",
       "8                0        1              0        0                     3    0  \n",
       "9                0        0              0        0                     3    0  \n",
       "11               0        0              0        0                     3    0  "
      ]
     },
     "execution_count": 6,
     "metadata": {},
     "output_type": "execute_result"
    }
   ],
   "source": [
    "df = df.replace([97, 99], np.nan)\n",
    "df.head()"
   ]
  },
  {
   "cell_type": "code",
   "execution_count": 7,
   "id": "535ce103",
   "metadata": {},
   "outputs": [
    {
     "name": "stdout",
     "output_type": "stream",
     "text": [
      "          index  USMER  SEX  PATIENT_TYPE  DATE_DIED  INTUBED  PNEUMONIA  \\\n",
      "0             2      0    0             1          1        1          0   \n",
      "1             5      0    1             1          0        0          1   \n",
      "2             8      0    1             1          0        0          0   \n",
      "3             9      0    1             1          0        0          0   \n",
      "4            11      0    0             1          0        0          0   \n",
      "...         ...    ...  ...           ...        ...      ...        ...   \n",
      "108268  1047913      1    0             1          0        0          0   \n",
      "108269  1047919      1    0             1          0        0          0   \n",
      "108270  1047928      1    1             1          0        0          0   \n",
      "108271  1047929      1    0             1          0        0          0   \n",
      "108272  1047933      1    1             1          0        0          0   \n",
      "\n",
      "         AGE  PREGNANT  DIABETES  ...  ASTHMA  INMSUPR  HIPERTENSION  \\\n",
      "0       55.0         0         1  ...       0        0             0   \n",
      "1       40.0         0         0  ...       0        0             0   \n",
      "2       37.0         0         1  ...       0        0             1   \n",
      "3       25.0         0         0  ...       0        0             0   \n",
      "4       24.0         0         0  ...       0        0             0   \n",
      "...      ...       ...       ...  ...     ...      ...           ...   \n",
      "108268  54.0         0         1  ...       0        0             0   \n",
      "108269  62.0         0         0  ...       0        0             0   \n",
      "108270  47.0         0         1  ...       0        0             0   \n",
      "108271  72.0         0         1  ...       0        0             0   \n",
      "108272  77.0         0         1  ...       0        1             1   \n",
      "\n",
      "        OTHER_DISEASE  CARDIOVASCULAR  OBESITY  RENAL_CHRONIC  TOBACCO  \\\n",
      "0                   0               0        0              0        0   \n",
      "1                   0               0        0              0        0   \n",
      "2                   0               0        1              0        0   \n",
      "3                   0               0        0              0        0   \n",
      "4                   0               0        0              0        0   \n",
      "...               ...             ...      ...            ...      ...   \n",
      "108268              0               0        0              0        0   \n",
      "108269              0               0        0              0        0   \n",
      "108270              0               0        0              0        0   \n",
      "108271              0               1        1              0        0   \n",
      "108272              0               0        0              0        0   \n",
      "\n",
      "        CLASIFFICATION_FINAL  ICU  \n",
      "0                          3    0  \n",
      "1                          3    0  \n",
      "2                          3    0  \n",
      "3                          3    0  \n",
      "4                          3    0  \n",
      "...                      ...  ...  \n",
      "108268                     3    0  \n",
      "108269                     3    0  \n",
      "108270                     3    0  \n",
      "108271                     3    0  \n",
      "108272                     3    0  \n",
      "\n",
      "[108273 rows x 21 columns]\n"
     ]
    }
   ],
   "source": [
    "df = df.reset_index()\n",
    "print(df)"
   ]
  },
  {
   "cell_type": "code",
   "execution_count": 8,
   "id": "282a667c",
   "metadata": {},
   "outputs": [],
   "source": [
    "df['AT_RISK'] = df['DATE_DIED'] + df['INTUBED'] + df['ICU']\n",
    "df.AT_RISK = df.AT_RISK.apply(lambda x: 1 if x > 0 else 0) \n",
    "\n",
    "# Drop a few columns which are intuitively not longer useful\n",
    "df.drop(columns = ['CLASIFFICATION_FINAL', 'INTUBED', 'ICU','index'], inplace=True)"
   ]
  },
  {
   "cell_type": "code",
   "execution_count": 9,
   "id": "f96542c4",
   "metadata": {},
   "outputs": [
    {
     "name": "stdout",
     "output_type": "stream",
     "text": [
      "        USMER  SEX  PATIENT_TYPE  DATE_DIED  PNEUMONIA   AGE  PREGNANT  \\\n",
      "0           0    0             1          1          0  55.0         0   \n",
      "1           0    1             1          0          1  40.0         0   \n",
      "2           0    1             1          0          0  37.0         0   \n",
      "3           0    1             1          0          0  25.0         0   \n",
      "4           0    0             1          0          0  24.0         0   \n",
      "...       ...  ...           ...        ...        ...   ...       ...   \n",
      "108268      1    0             1          0          0  54.0         0   \n",
      "108269      1    0             1          0          0  62.0         0   \n",
      "108270      1    1             1          0          0  47.0         0   \n",
      "108271      1    0             1          0          0  72.0         0   \n",
      "108272      1    1             1          0          0  77.0         0   \n",
      "\n",
      "        DIABETES  COPD  ASTHMA  INMSUPR  HIPERTENSION  OTHER_DISEASE  \\\n",
      "0              1     0       0        0             0              0   \n",
      "1              0     0       0        0             0              0   \n",
      "2              1     0       0        0             1              0   \n",
      "3              0     0       0        0             0              0   \n",
      "4              0     0       0        0             0              0   \n",
      "...          ...   ...     ...      ...           ...            ...   \n",
      "108268         1     0       0        0             0              0   \n",
      "108269         0     0       0        0             0              0   \n",
      "108270         1     0       0        0             0              0   \n",
      "108271         1     0       0        0             0              0   \n",
      "108272         1     0       0        1             1              0   \n",
      "\n",
      "        CARDIOVASCULAR  OBESITY  RENAL_CHRONIC  TOBACCO  AT_RISK  \n",
      "0                    0        0              0        0        1  \n",
      "1                    0        0              0        0        0  \n",
      "2                    0        1              0        0        0  \n",
      "3                    0        0              0        0        0  \n",
      "4                    0        0              0        0        0  \n",
      "...                ...      ...            ...      ...      ...  \n",
      "108268               0        0              0        0        0  \n",
      "108269               0        0              0        0        0  \n",
      "108270               0        0              0        0        0  \n",
      "108271               1        1              0        0        0  \n",
      "108272               0        0              0        0        0  \n",
      "\n",
      "[108273 rows x 18 columns]\n"
     ]
    }
   ],
   "source": [
    "print(df)"
   ]
  },
  {
   "cell_type": "code",
   "execution_count": 10,
   "id": "75996adf",
   "metadata": {},
   "outputs": [
    {
     "name": "stdout",
     "output_type": "stream",
     "text": [
      "<class 'pandas.core.frame.DataFrame'>\n",
      "RangeIndex: 108273 entries, 0 to 108272\n",
      "Data columns (total 18 columns):\n",
      " #   Column          Non-Null Count   Dtype  \n",
      "---  ------          --------------   -----  \n",
      " 0   USMER           108273 non-null  int64  \n",
      " 1   SEX             108273 non-null  int64  \n",
      " 2   PATIENT_TYPE    108273 non-null  int64  \n",
      " 3   DATE_DIED       108273 non-null  int64  \n",
      " 4   PNEUMONIA       108273 non-null  int64  \n",
      " 5   AGE             108228 non-null  float64\n",
      " 6   PREGNANT        108273 non-null  int64  \n",
      " 7   DIABETES        108273 non-null  int64  \n",
      " 8   COPD            108273 non-null  int64  \n",
      " 9   ASTHMA          108273 non-null  int64  \n",
      " 10  INMSUPR         108273 non-null  int64  \n",
      " 11  HIPERTENSION    108273 non-null  int64  \n",
      " 12  OTHER_DISEASE   108273 non-null  int64  \n",
      " 13  CARDIOVASCULAR  108273 non-null  int64  \n",
      " 14  OBESITY         108273 non-null  int64  \n",
      " 15  RENAL_CHRONIC   108273 non-null  int64  \n",
      " 16  TOBACCO         108273 non-null  int64  \n",
      " 17  AT_RISK         108273 non-null  int64  \n",
      "dtypes: float64(1), int64(17)\n",
      "memory usage: 14.9 MB\n",
      "None\n"
     ]
    }
   ],
   "source": [
    "print(df.info())"
   ]
  },
  {
   "cell_type": "markdown",
   "id": "fb5daf7e",
   "metadata": {},
   "source": [
    "#### Question 1\n",
    "Partition the sample based on 10-year age bands, i.e. the resulting groups will consist of people with ages from 18-28, 29-38, etc; that have 'DIABETES'. Construct 95% confidence intervals for the difference between the mean 'DEATH FOR COVID-19' for females and for males within each age band.\n",
    "\n"
   ]
  },
  {
   "cell_type": "code",
   "execution_count": 11,
   "id": "24962b28",
   "metadata": {},
   "outputs": [
    {
     "name": "stdout",
     "output_type": "stream",
     "text": [
      "Std Females that died with COVID-19:  0.4413104493478833\n",
      "Std Males that died with COVID-19:  0.46659661630122223\n",
      "Variance Ratio:  0.8945513007390763\n",
      "_________________________________________________________\n",
      "Std Females that died with COVID-19:  0.46050091833651924\n",
      "Std Males that died with COVID-19:  0.4677000351222916\n",
      "Variance Ratio:  0.9694517438180554\n",
      "_________________________________________________________\n",
      "Std Females that died with COVID-19:  0.4794477165084547\n",
      "Std Males that died with COVID-19:  0.48989794855663565\n",
      "Variance Ratio:  0.9577921369382145\n",
      "_________________________________________________________\n",
      "Std Females that died with COVID-19:  0.49637344653945265\n",
      "Std Males that died with COVID-19:  0.4997869833382368\n",
      "Variance Ratio:  0.9863866818770283\n",
      "_________________________________________________________\n",
      "Std Females that died with COVID-19:  0.49932031029759616\n",
      "Std Males that died with COVID-19:  0.49307695748911784\n",
      "Variance Ratio:  1.0254843770653368\n",
      "_________________________________________________________\n",
      "Std Females that died with COVID-19:  0.4895234238231194\n",
      "Std Males that died with COVID-19:  0.4755590369694546\n",
      "Variance Ratio:  1.0595905531244327\n",
      "_________________________________________________________\n",
      "Std Females that died with COVID-19:  0.474655797106732\n",
      "Std Males that died with COVID-19:  0.453104608393896\n",
      "Variance Ratio:  1.0973890445685623\n",
      "_________________________________________________________\n"
     ]
    }
   ],
   "source": [
    "# NO POOLED\n",
    "\n",
    "for val in [[18, 28], [29, 38], [39, 48], [49, 58], [59, 68], [69, 78], [79, 88]]:\n",
    "    df_year_band = df[(df['AGE'] >= val[0]) & (df['AGE'] <= val[1])]\n",
    "    df_year_band.reset_index(inplace=True, drop=True)\n",
    "    \n",
    "    \n",
    "    Female_COVID_died = df_year_band[(df_year_band['SEX'] == 1) & (df_year_band['DIABETES'] == 1)]['DATE_DIED']\n",
    "    Male_COVID_died = df_year_band[(df_year_band['SEX'] == 0) & (df_year_band['DIABETES'] == 1)]['DATE_DIED']\n",
    "\n",
    "    Female_COVID_died.reset_index(inplace = True, drop = True)\n",
    "    Male_COVID_died.reset_index(inplace = True, drop = True)\n",
    "    \n",
    "    print(\"Std Females that died with COVID-19: \", np.std(Female_COVID_died))\n",
    "    print(\"Std Males that died with COVID-19: \", np.std(Male_COVID_died))\n",
    "    print(\"Variance Ratio: \", (np.std(Female_COVID_died)**2)/(np.std(Male_COVID_died)**2))\n",
    "    print(\"_________________________________________________________\")"
   ]
  },
  {
   "cell_type": "code",
   "execution_count": 12,
   "id": "583b7796",
   "metadata": {},
   "outputs": [
    {
     "name": "stdout",
     "output_type": "stream",
     "text": [
      "[18, 28]\n",
      "pooled:  -0.05967268312774217 , 0.17038315321321224\n",
      "pooled diff:  0.11071047008547007\n",
      "-----------------------------------------------------\n",
      "_________________________________________________________\n",
      "[29, 38]\n",
      "pooled:  -0.03514570365656239 , 0.0711127763672948\n",
      "pooled diff:  0.035967072710732406\n",
      "-----------------------------------------------------\n",
      "_________________________________________________________\n",
      "[39, 48]\n",
      "pooled:  0.012213812706116507 , 0.07154585415884489\n",
      "pooled diff:  0.059332041452728385\n",
      "-----------------------------------------------------\n",
      "_________________________________________________________\n",
      "[49, 58]\n",
      "pooled:  0.02422743525125782 , 0.0668086452725265\n",
      "pooled diff:  0.04258121002126868\n",
      "-----------------------------------------------------\n",
      "_________________________________________________________\n",
      "[59, 68]\n",
      "pooled:  0.037363444728795076 , 0.07634517418631956\n",
      "pooled diff:  0.03898172945752448\n",
      "-----------------------------------------------------\n",
      "_________________________________________________________\n",
      "[69, 78]\n",
      "pooled:  0.02936331217451035 , 0.07582902332299227\n",
      "pooled diff:  0.046465711148481914\n",
      "-----------------------------------------------------\n",
      "_________________________________________________________\n",
      "[79, 88]\n",
      "pooled:  0.016821651120675338 , 0.09167133247574345\n",
      "pooled diff:  0.07484968135506812\n",
      "-----------------------------------------------------\n",
      "_________________________________________________________\n"
     ]
    }
   ],
   "source": [
    "# POOLED\n",
    "\n",
    "for val in [[18, 28], [29, 38], [39, 48], [49, 58], [59, 68], [69, 78], [79, 88]]:\n",
    "    df_year_band = df[(df['AGE'] >= val[0]) & (df['AGE'] <= val[1])]\n",
    "    df_year_band.reset_index(inplace=True, drop=True)\n",
    "    \n",
    "    \n",
    "    Female_COVID_died = df_year_band[(df_year_band['SEX'] == 1) & (df_year_band['DIABETES'] == 1)]['DATE_DIED']\n",
    "    Male_COVID_died = df_year_band[(df_year_band['SEX'] == 0) & (df_year_band['DIABETES'] == 1)]['DATE_DIED']\n",
    "\n",
    "    Female_COVID_died.reset_index(inplace = True, drop = True)\n",
    "    Male_COVID_died.reset_index(inplace = True, drop = True)\n",
    "    \n",
    "    Female_temp = sm.stats.DescrStatsW(Female_COVID_died)\n",
    "    Male_temp = sm.stats.DescrStatsW(Male_COVID_died)\n",
    "    \n",
    "    cm = sm.stats.CompareMeans(Male_temp,Female_temp)\n",
    "    lower, upper = cm.tconfint_diff(usevar='pooled') \n",
    "    \n",
    "    print(val)\n",
    "    print(\"pooled: \", lower, \",\", upper)\n",
    "    print(\"pooled diff: \", abs(upper) - abs(lower))\n",
    "    print('-----------------------------------------------------')\n",
    "    print(\"_________________________________________________________\")"
   ]
  },
  {
   "cell_type": "markdown",
   "id": "e0bd472c",
   "metadata": {},
   "source": [
    "#### Question 2\n",
    "Construct 95% confidence intervals for the proportion of smokers that died by COVID-19 who are female, and for the proportion of smokers who are male. Then construct a 95% confidence interval for the difference between these proportions.\n"
   ]
  },
  {
   "cell_type": "code",
   "execution_count": 18,
   "id": "efe2de62",
   "metadata": {},
   "outputs": [],
   "source": [
    "# Select in the dataset the colums that you need to analyse\n",
    "\n",
    "Female_SMOKE_COVID_died = df[(df['SEX'] == 1) & (df['TOBACCO'] == 1)]['DATE_DIED']\n",
    "Female_SMOKE_COVID_died.reset_index(inplace=True,drop=True)\n",
    "Male_SMOKE_COVID_died = df[(df['SEX'] == 0) & (df['TOBACCO'] == 1)]['DATE_DIED']\n",
    "Male_SMOKE_COVID_died.reset_index(inplace=True,drop=True)"
   ]
  },
  {
   "cell_type": "code",
   "execution_count": 38,
   "id": "8b8e7cdd",
   "metadata": {},
   "outputs": [
    {
     "name": "stdout",
     "output_type": "stream",
     "text": [
      "3883\n"
     ]
    }
   ],
   "source": [
    "SMOKE_COVID_died = df[(df['TOBACCO'] == 1)]['DATE_DIED']\n",
    "n_smokers_covid = sum(SMOKE_COVID_died==1)\n",
    "print(n_smokers_covid)\n"
   ]
  },
  {
   "cell_type": "code",
   "execution_count": 27,
   "id": "8e11f258",
   "metadata": {},
   "outputs": [
    {
     "name": "stdout",
     "output_type": "stream",
     "text": [
      "628 , 996\n"
     ]
    }
   ],
   "source": [
    "# Count the number of females that smoke and died by COVID-19, and females that do not die by COVID-19\n",
    "print(sum(Female_SMOKE_COVID_died==1), \",\", sum(Female_SMOKE_COVID_died!=1)) \n",
    "n_female_smokers_covid = sum(Female_SMOKE_COVID_died==1)\n"
   ]
  },
  {
   "cell_type": "code",
   "execution_count": 28,
   "id": "ae3997b7",
   "metadata": {},
   "outputs": [
    {
     "name": "stdout",
     "output_type": "stream",
     "text": [
      "3255 , 3568\n"
     ]
    }
   ],
   "source": [
    "# Count the number of males that smoke and died By COVID-19, and males that do not die by COVID-19\n",
    "print(sum(Male_SMOKE_COVID_died==1), \",\", sum(Male_SMOKE_COVID_died!=1))\n",
    "n_male_smokers_covid = sum(Male_SMOKE_COVID_died==1)\n"
   ]
  },
  {
   "cell_type": "code",
   "execution_count": 25,
   "id": "c8182bb9",
   "metadata": {},
   "outputs": [
    {
     "name": "stdout",
     "output_type": "stream",
     "text": [
      "0.477062875567932\n"
     ]
    }
   ],
   "source": [
    "#Proportion (%) of Male that smoke and died due to COIVD19\n",
    "proportion_male_smoke_covid = sum(Male_SMOKE_COVID_died==1)/len(Male_SMOKE_COVID_died)\n",
    "print(proportion_male_smoke_covid)"
   ]
  },
  {
   "cell_type": "code",
   "execution_count": 26,
   "id": "7fc9178c",
   "metadata": {},
   "outputs": [
    {
     "name": "stdout",
     "output_type": "stream",
     "text": [
      "0.3866995073891626\n"
     ]
    }
   ],
   "source": [
    "#Proportion (%) of Female that smoke and died due to COIVD19\n",
    "proportion_female_smoke_covid =sum(Female_SMOKE_COVID_died==1)/len(Female_SMOKE_COVID_died)\n",
    "print(proportion_female_smoke_covid)"
   ]
  },
  {
   "cell_type": "code",
   "execution_count": 31,
   "id": "865f6242",
   "metadata": {},
   "outputs": [
    {
     "name": "stdout",
     "output_type": "stream",
     "text": [
      "0.008754614992272067\n"
     ]
    }
   ],
   "source": [
    "# Standar error (se) of proportion of male\n",
    "se_male_smoke_covid = np.sqrt((proportion_male_smoke_covid*(1-proportion_male_smoke_covid))/n_male_smokers_covid )\n",
    "print(se_male_smoke_covid )"
   ]
  },
  {
   "cell_type": "code",
   "execution_count": 32,
   "id": "e1fbe823",
   "metadata": {},
   "outputs": [
    {
     "name": "stdout",
     "output_type": "stream",
     "text": [
      "0.019433169751304803\n"
     ]
    }
   ],
   "source": [
    "# Standar error (se) of proportion of female\n",
    "se_female_smoke_covid = np.sqrt((proportion_female_smoke_covid*(1-proportion_female_smoke_covid))/n_female_smokers_covid )\n",
    "print(se_female_smoke_covid )"
   ]
  },
  {
   "cell_type": "code",
   "execution_count": 33,
   "id": "a8266069",
   "metadata": {},
   "outputs": [
    {
     "name": "stdout",
     "output_type": "stream",
     "text": [
      "Lower Boundary Male:  0.45990383018307873\n",
      "Upper Boundary Male:  0.4942219209527852\n"
     ]
    }
   ],
   "source": [
    "print('Lower Boundary Male: ', proportion_male_smoke_covid-1.96*se_male_smoke_covid)\n",
    "print('Upper Boundary Male: ', proportion_male_smoke_covid+1.96*se_male_smoke_covid)"
   ]
  },
  {
   "cell_type": "code",
   "execution_count": 55,
   "id": "58388159",
   "metadata": {},
   "outputs": [
    {
     "name": "stdout",
     "output_type": "stream",
     "text": [
      "Lower Boundary Male:  0.34861049467660515\n",
      "Upper Boundary Male:  0.42478852010172\n"
     ]
    }
   ],
   "source": [
    "print('Lower Boundary Male: ', proportion_female_smoke_covid-1.96*se_female_smoke_covid)\n",
    "print('Upper Boundary Male: ', proportion_female_smoke_covid+1.96*se_female_smoke_covid)"
   ]
  },
  {
   "cell_type": "code",
   "execution_count": 49,
   "id": "556740e9",
   "metadata": {},
   "outputs": [
    {
     "data": {
      "text/plain": [
       "(0.8266882123631253, 0.849850546328608)"
      ]
     },
     "execution_count": 49,
     "metadata": {},
     "output_type": "execute_result"
    }
   ],
   "source": [
    "ci_low_male, ci_upp_male = proportion_confint(n_male_smokers_covid, n_smokers_covid, alpha=0.05, method='normal')\n",
    "ci_low_male, ci_upp_male"
   ]
  },
  {
   "cell_type": "code",
   "execution_count": 50,
   "id": "f615ad60",
   "metadata": {},
   "outputs": [
    {
     "data": {
      "text/plain": [
       "0.02316233396548273"
      ]
     },
     "execution_count": 50,
     "metadata": {},
     "output_type": "execute_result"
    }
   ],
   "source": [
    "ci_upp_male - ci_low_male "
   ]
  },
  {
   "cell_type": "code",
   "execution_count": 56,
   "id": "0bcdbd5a",
   "metadata": {},
   "outputs": [
    {
     "data": {
      "text/plain": [
       "(0.1501494536713921, 0.17331178763687471)"
      ]
     },
     "execution_count": 56,
     "metadata": {},
     "output_type": "execute_result"
    }
   ],
   "source": [
    "ci_low_female, ci_upp_female = proportion_confint(n_female_smokers_covid, n_smokers_covid, alpha=0.05, method='normal')\n",
    "ci_low_female, ci_upp_female"
   ]
  },
  {
   "cell_type": "code",
   "execution_count": 57,
   "id": "02ac7251",
   "metadata": {},
   "outputs": [
    {
     "data": {
      "text/plain": [
       "0.023162333965482618"
      ]
     },
     "execution_count": 57,
     "metadata": {},
     "output_type": "execute_result"
    }
   ],
   "source": [
    "ci_upp_female - ci_low_female "
   ]
  },
  {
   "cell_type": "markdown",
   "id": "9c2e89a0",
   "metadata": {},
   "source": [
    "Diference of proportions that smokers and dead by COVID 19 between male ann female"
   ]
  },
  {
   "cell_type": "code",
   "execution_count": 59,
   "id": "b324cd90",
   "metadata": {},
   "outputs": [
    {
     "data": {
      "text/plain": [
       "0.09036336817876939"
      ]
     },
     "execution_count": 59,
     "metadata": {},
     "output_type": "execute_result"
    }
   ],
   "source": [
    "proportion_smokers_gender_covid_diff = proportion_male_smoke_covid - proportion_female_smoke_covid\n",
    "proportion_smokers_gender_covid_diff"
   ]
  },
  {
   "cell_type": "code",
   "execution_count": 63,
   "metadata": {},
   "outputs": [
    {
     "data": {
      "text/plain": [
       "0.021314111997593116"
      ]
     },
     "execution_count": 63,
     "metadata": {},
     "output_type": "execute_result"
    }
   ],
   "source": [
    "se_proportion_smokers_covid_diff = np.sqrt((se_male_smoke_covid**2)+(se_female_smoke_covid**2))\n",
    "se_proportion_smokers_covid_diff"
   ]
  },
  {
   "cell_type": "code",
   "execution_count": 61,
   "id": "a206633e",
   "metadata": {},
   "outputs": [
    {
     "name": "stdout",
     "output_type": "stream",
     "text": [
      "Lower Boundary Gender Difference:  0.048587708663486884\n",
      "Upper Boundary Gender Difference:  0.1321390276940519\n"
     ]
    }
   ],
   "source": [
    "print('Lower Boundary Gender Difference: ', proportion_smokers_gender_covid_diff-1.96*se_proportion_smokers_covid_diff)\n",
    "print('Upper Boundary Gender Difference: ', proportion_smokers_gender_covid_diff+1.96*se_proportion_smokers_covid_diff)\n"
   ]
  },
  {
   "cell_type": "code",
   "execution_count": 62,
   "id": "0a4093fe",
   "metadata": {},
   "outputs": [
    {
     "data": {
      "text/plain": [
       "0.08355131903056501"
      ]
     },
     "execution_count": 62,
     "metadata": {},
     "output_type": "execute_result"
    }
   ],
   "source": [
    "0.1321390276940519 - 0.048587708663486884"
   ]
  },
  {
   "cell_type": "markdown",
   "id": "c1af36dd",
   "metadata": {},
   "source": [
    "Q2a. Discuss why it may be relevant to report the proportions of smokers who are female and male, and contrast this to reporting the proportions of males and females who smoke and died by COVID-19."
   ]
  },
  {
   "cell_type": "markdown",
   "id": "9b09141a",
   "metadata": {},
   "source": [
    "It is important to find the proportion of smokers and people that died by COVID-19 who are female vs proportion of smokers who are male in order to compare the two genders. The proportion of smokers who are male is higher than the proportion of smokers who are female. 82% to 84% of smokers are male while 15% to 17% of smokers are female."
   ]
  },
  {
   "cell_type": "markdown",
   "id": "5e3294bb",
   "metadata": {},
   "source": [
    "Q2b. How does the width of the confidence interval for the difference of the two proportions compare to the widths of the confidence intervals for each proportion separately?"
   ]
  },
  {
   "cell_type": "markdown",
   "id": "f3ae2f0b",
   "metadata": {},
   "source": [
    "The confidence interval for the difference of the two proportions is wider than the confidence intervals for each proportion separately."
   ]
  },
  {
   "cell_type": "code",
   "execution_count": null,
   "id": "b3830328",
   "metadata": {},
   "outputs": [],
   "source": []
  },
  {
   "cell_type": "code",
   "execution_count": 19,
   "id": "45c727c0",
   "metadata": {},
   "outputs": [
    {
     "data": {
      "text/plain": [
       "1.0519089825691308"
      ]
     },
     "execution_count": 19,
     "metadata": {},
     "output_type": "execute_result"
    }
   ],
   "source": [
    "#Desviavion estandar \n",
    "(np.std(Male_SMOKE_COVID_died)**2)/(np.std(Female_SMOKE_COVID_died)**2)"
   ]
  },
  {
   "cell_type": "code",
   "execution_count": 20,
   "id": "0c7c8fe4",
   "metadata": {},
   "outputs": [
    {
     "data": {
      "text/plain": [
       "(6.583061224185866, 4.883510821358523e-11, 8445.0)"
      ]
     },
     "execution_count": 20,
     "metadata": {},
     "output_type": "execute_result"
    }
   ],
   "source": [
    "sm.stats.ttest_ind(Male_SMOKE_COVID_died, Female_SMOKE_COVID_died)"
   ]
  },
  {
   "cell_type": "code",
   "execution_count": null,
   "id": "f4f22773",
   "metadata": {},
   "outputs": [],
   "source": []
  },
  {
   "cell_type": "markdown",
   "id": "81178f9c",
   "metadata": {},
   "source": []
  },
  {
   "cell_type": "code",
   "execution_count": 17,
   "id": "614004c0",
   "metadata": {},
   "outputs": [],
   "source": [
    "\n",
    "Female_SMOKE_COVID_died = df[(df['SEX']==1) & (df['TOBACCO']==1)]['DATE_DIED']\n",
    "Female_SMOKE_COVID_died.reset_index(inplace=True,drop=True)\n",
    "Male_SMOKE_COVID_died = df[(df['SEX']==0) & (df['TOBACCO']==1)]['DATE_DIED']\n",
    "Male_SMOKE_COVID_died.reset_index(inplace=True,drop=True)"
   ]
  },
  {
   "cell_type": "code",
   "execution_count": null,
   "id": "a365b0fe",
   "metadata": {},
   "outputs": [],
   "source": []
  },
  {
   "cell_type": "code",
   "execution_count": null,
   "id": "9aa0de5d",
   "metadata": {},
   "outputs": [],
   "source": []
  }
 ],
 "metadata": {
  "kernelspec": {
   "display_name": "Python 3.10.6 64-bit",
   "language": "python",
   "name": "python3"
  },
  "language_info": {
   "codemirror_mode": {
    "name": "ipython",
    "version": 3
   },
   "file_extension": ".py",
   "mimetype": "text/x-python",
   "name": "python",
   "nbconvert_exporter": "python",
   "pygments_lexer": "ipython3",
   "version": "3.10.6"
  },
  "vscode": {
   "interpreter": {
    "hash": "916dbcbb3f70747c44a77c7bcd40155683ae19c65e1c03b4aa3499c5328201f1"
   }
  }
 },
 "nbformat": 4,
 "nbformat_minor": 5
}
